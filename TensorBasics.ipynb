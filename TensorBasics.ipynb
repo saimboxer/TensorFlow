{
 "cells": [
  {
   "cell_type": "code",
   "execution_count": 1,
   "metadata": {},
   "outputs": [],
   "source": [
    "import tensorflow as tf"
   ]
  },
  {
   "cell_type": "code",
   "execution_count": 5,
   "metadata": {},
   "outputs": [
    {
     "name": "stdout",
     "output_type": "stream",
     "text": [
      "tf.Tensor([[4.]], shape=(1, 1), dtype=float32)\n"
     ]
    }
   ],
   "source": [
    "# Initialize a TensorFlow constant with a value of 4, specifying the shape as (1, 1) and data type as float32\n",
    "x = tf.constant(4, shape=(1, 1), dtype=tf.float32)\n",
    "\n",
    "# Print the value of the tensor 'x'\n",
    "print(x)\n"
   ]
  },
  {
   "cell_type": "code",
   "execution_count": 6,
   "metadata": {},
   "outputs": [
    {
     "name": "stdout",
     "output_type": "stream",
     "text": [
      "tf.Tensor(\n",
      "[[1 2 3]\n",
      " [4 5 6]], shape=(2, 3), dtype=int32)\n"
     ]
    }
   ],
   "source": [
    "# Initialize a TensorFlow constant with a 2x3 matrix and a specified shape of (2, 3)\n",
    "x = tf.constant([[1, 2, 3], [4, 5, 6]], shape=(2, 3))\n",
    "\n",
    "# Print the value of the tensor 'x'\n",
    "print(x)\n"
   ]
  },
  {
   "cell_type": "code",
   "execution_count": 7,
   "metadata": {},
   "outputs": [
    {
     "name": "stdout",
     "output_type": "stream",
     "text": [
      "tf.Tensor(\n",
      "[[1. 0. 0.]\n",
      " [0. 1. 0.]\n",
      " [0. 0. 1.]], shape=(3, 3), dtype=float32)\n"
     ]
    }
   ],
   "source": [
    "# Create a 3x3 identity matrix using TensorFlow's tf.eye() function\n",
    "# tf.eye(n) generates a square identity matrix of size n, where diagonal elements are 1 and off-diagonal elements are 0\n",
    "x = tf.eye(3)\n",
    "\n",
    "# Print the value of the identity matrix 'x'\n",
    "print(x)\n"
   ]
  },
  {
   "cell_type": "code",
   "execution_count": 8,
   "metadata": {},
   "outputs": [
    {
     "name": "stdout",
     "output_type": "stream",
     "text": [
      "tf.Tensor(\n",
      "[[[0. 0. 0. 0. 0.]\n",
      "  [0. 0. 0. 0. 0.]]\n",
      "\n",
      " [[0. 0. 0. 0. 0.]\n",
      "  [0. 0. 0. 0. 0.]]\n",
      "\n",
      " [[0. 0. 0. 0. 0.]\n",
      "  [0. 0. 0. 0. 0.]]], shape=(3, 2, 5), dtype=float32)\n"
     ]
    }
   ],
   "source": [
    "# Create a 3x2x5 tensor filled with zeros using TensorFlow's tf.zeros() function\n",
    "# tf.zeros(shape) generates a tensor of the specified shape with all elements initialized to 0\n",
    "x = tf.zeros((3, 2, 5))\n",
    "\n",
    "# Print the value of the tensor 'x'\n",
    "print(x)"
   ]
  },
  {
   "cell_type": "code",
   "execution_count": 9,
   "metadata": {},
   "outputs": [
    {
     "name": "stdout",
     "output_type": "stream",
     "text": [
      "tf.Tensor(\n",
      "[[0.05759704 0.96135664]\n",
      " [0.22801352 0.42516148]], shape=(2, 2), dtype=float32)\n"
     ]
    }
   ],
   "source": [
    "# Create a 2x2 tensor with random values uniformly distributed between minval (0) and maxval (1) using tf.random.uniform()\n",
    "# tf.random.uniform(shape, minval, maxval) generates a tensor of the specified shape with random values in the given range\n",
    "x = tf.random.uniform((2, 2), minval=0, maxval=1)\n",
    "\n",
    "# Print the value of the tensor 'x'\n",
    "print(x)\n"
   ]
  },
  {
   "cell_type": "code",
   "execution_count": 10,
   "metadata": {},
   "outputs": [
    {
     "name": "stdout",
     "output_type": "stream",
     "text": [
      "tf.Tensor(\n",
      "[[ 0.65910429 -0.89214152 -0.86553907]\n",
      " [-2.17276621  0.73703843  0.86458117]\n",
      " [ 1.19924748  0.49931648 -1.22028172]], shape=(3, 3), dtype=float64)\n"
     ]
    }
   ],
   "source": [
    "# Create a 3x3 tensor with random values drawn from a normal distribution with mean 0 and standard deviation 1 using tf.random.normal()\n",
    "# tf.random.normal(shape, mean, stddev) generates a tensor of the specified shape with values from a normal (Gaussian) distribution\n",
    "x = tf.random.normal((3, 3), mean=0, stddev=1)\n",
    "\n",
    "# Cast the tensor 'x' to a different data type (float64) using tf.cast()\n",
    "# tf.cast(tensor, dtype) changes the data type of the tensor to the specified dtype\n",
    "print(tf.cast(x, dtype=tf.float64))\n"
   ]
  },
  {
   "cell_type": "code",
   "execution_count": 11,
   "metadata": {},
   "outputs": [
    {
     "name": "stdout",
     "output_type": "stream",
     "text": [
      "tf.Tensor([0 2 4 6 8], shape=(5,), dtype=int32)\n"
     ]
    }
   ],
   "source": [
    "# Create a 1D tensor with values ranging from 0 to 8 (not including 9) using tf.range()\n",
    "x = tf.range(9)\n",
    "\n",
    "# Create a 1D tensor starting from 0, up to (but not including) 10, with a step size of 2 using tf.range()\n",
    "# tf.range(start, limit, delta) generates a sequence of values with the specified start, end, and step size\n",
    "x = tf.range(start=0, limit=10, delta=2)\n",
    "\n",
    "# Print the value of the tensor 'x'\n",
    "print(x)\n"
   ]
  },
  {
   "cell_type": "markdown",
   "metadata": {},
   "source": [
    "## Maths"
   ]
  },
  {
   "cell_type": "code",
   "execution_count": 12,
   "metadata": {},
   "outputs": [],
   "source": [
    "# Initialize two 1D tensors (vectors) with constant values\n",
    "x = tf.constant([1, 2, 3])\n",
    "y = tf.constant([9, 8, 7])\n"
   ]
  },
  {
   "cell_type": "code",
   "execution_count": 14,
   "metadata": {},
   "outputs": [
    {
     "name": "stdout",
     "output_type": "stream",
     "text": [
      "tf.Tensor([10 10 10], shape=(3,), dtype=int32)\n"
     ]
    }
   ],
   "source": [
    "# Add the two tensors 'x' and 'y' using tf.add()\n",
    "z = tf.add(x, y)\n",
    "\n",
    "# Alternatively, add the two tensors using the '+' operator, which is equivalent to tf.add()\n",
    "z = x + y\n",
    "print(z)\n"
   ]
  },
  {
   "cell_type": "code",
   "execution_count": 15,
   "metadata": {},
   "outputs": [
    {
     "name": "stdout",
     "output_type": "stream",
     "text": [
      "tf.Tensor([-8 -6 -4], shape=(3,), dtype=int32)\n"
     ]
    }
   ],
   "source": [
    "# Subtract tensor 'y' from tensor 'x' using tf.subtract()\n",
    "z = tf.subtract(x, y)\n",
    "\n",
    "# Alternatively, subtract tensor 'y' from tensor 'x' using the '-' operator, which is equivalent to tf.subtract()\n",
    "z = x - y\n",
    "print(z)\n"
   ]
  },
  {
   "cell_type": "code",
   "execution_count": 16,
   "metadata": {},
   "outputs": [
    {
     "name": "stdout",
     "output_type": "stream",
     "text": [
      "tf.Tensor([0.11111111 0.25       0.42857143], shape=(3,), dtype=float64)\n"
     ]
    }
   ],
   "source": [
    "# Divide tensor 'x' by tensor 'y' using tf.divide()\n",
    "z = tf.divide(x, y)\n",
    "\n",
    "# Alternatively, divide tensor 'x' by tensor 'y' using the '/' operator, which is equivalent to tf.divide()\n",
    "z = x / y\n",
    "print(z)"
   ]
  },
  {
   "cell_type": "code",
   "execution_count": 17,
   "metadata": {},
   "outputs": [
    {
     "name": "stdout",
     "output_type": "stream",
     "text": [
      "tf.Tensor([ 9 16 21], shape=(3,), dtype=int32)\n"
     ]
    }
   ],
   "source": [
    "# Multiply tensor 'x' by tensor 'y' using tf.multiply()\n",
    "z = tf.multiply(x, y)\n",
    "\n",
    "# Alternatively, multiply tensor 'x' by tensor 'y' using the '*' operator, which is equivalent to tf.multiply()\n",
    "z = x * y\n",
    "print(z)"
   ]
  },
  {
   "cell_type": "code",
   "execution_count": 18,
   "metadata": {},
   "outputs": [
    {
     "name": "stdout",
     "output_type": "stream",
     "text": [
      "tf.Tensor(46, shape=(), dtype=int32)\n"
     ]
    }
   ],
   "source": [
    "# Compute the tensor dot product of 'x' and 'y' using tf.tensordot()\n",
    "# tf.tensordot(x, y, axes) computes the dot product along specified axes\n",
    "# In this case, axes=1 performs a dot product over the last dimension of 'x' and the first dimension of 'y'\n",
    "z = tf.tensordot(x, y, axes=1)\n",
    "print(z)"
   ]
  },
  {
   "cell_type": "markdown",
   "metadata": {},
   "source": [
    "## Lets understand this 'tf.tensordot' with a use case"
   ]
  },
  {
   "cell_type": "markdown",
   "metadata": {},
   "source": [
    "### Scenario: Combining Image Features for Classification\n",
    "\n",
    "Imagine you are a detective trying to identify objects in images using clues from the picture. You have different types of clues:\n",
    "\n",
    "1. **Edges**: Shows the boundaries of objects (like the outline of a cat’s ears).\n",
    "2. **Textures**: Reveals the surface patterns (like the fur of the cat).\n",
    "3. **Colors**: Captures the color information (like the cat's color).\n",
    "\n",
    "### How It Works\n",
    "\n",
    "1. **Feature Maps**: Each image is analyzed to get feature maps for edges, textures, and colors. These feature maps are 4x4 grids showing details about the image.\n",
    "\n",
    "2. **Weights**: Each type of clue is assigned a weight based on how important it is for identifying the image:\n",
    "   - **Edges**: Weight = 0.5\n",
    "   - **Textures**: Weight = 1.0\n",
    "   - **Colors**: Weight = 1.5\n",
    "\n",
    "3. **Combine Clues**: Multiply each feature map by its weight and add them together to get a combined score for each image.\n"
   ]
  },
  {
   "cell_type": "code",
   "execution_count": 20,
   "metadata": {},
   "outputs": [
    {
     "name": "stdout",
     "output_type": "stream",
     "text": [
      "Combined Scores for Each Image:\n",
      "[[[ 3.  5.  4.  6.]\n",
      "  [ 6.  8.  7.  9.]\n",
      "  [ 9. 11. 10. 12.]\n",
      "  [12. 14. 13. 15.]]\n",
      "\n",
      " [[ 6.  8.  7.  9.]\n",
      "  [ 9. 11. 10. 12.]\n",
      "  [12. 14. 13. 15.]\n",
      "  [15. 17. 16. 18.]]]\n"
     ]
    }
   ],
   "source": [
    "import tensorflow as tf\n",
    "\n",
    "# Define synthetic feature maps for 2 images (shape: [2, 3, 4, 4])\n",
    "feature_maps = tf.constant([\n",
    "    [\n",
    "        [[1, 2, 3, 4], [5, 6, 7, 8], [9, 10, 11, 12], [13, 14, 15, 16]],  # Edges\n",
    "        [[1, 1, 1, 1], [2, 2, 2, 2], [3, 3, 3, 3], [4, 4, 4, 4]],        # Textures\n",
    "        [[1, 2, 1, 2], [1, 2, 1, 2], [1, 2, 1, 2], [1, 2, 1, 2]]         # Colors\n",
    "    ],\n",
    "    [\n",
    "        [[2, 3, 4, 5], [6, 7, 8, 9], [10, 11, 12, 13], [14, 15, 16, 17]],  # Edges\n",
    "        [[2, 2, 2, 2], [3, 3, 3, 3], [4, 4, 4, 4], [5, 5, 5, 5]],        # Textures\n",
    "        [[2, 3, 2, 3], [2, 3, 2, 3], [2, 3, 2, 3], [2, 3, 2, 3]]         # Colors\n",
    "    ]\n",
    "], dtype=tf.float32)\n",
    "\n",
    "# Define weights for each feature type (shape: [3])\n",
    "weights = tf.constant([0.5, 1.0, 1.5], dtype=tf.float32)\n",
    "\n",
    "# Reshape weights to match dimensions for tensordot operation\n",
    "# Weights need to be reshaped to [1, 3, 1, 1] for broadcasting with feature_maps\n",
    "weights_reshaped = tf.reshape(weights, [1, 3, 1, 1])\n",
    "\n",
    "# Compute the weighted sum of feature maps for each image\n",
    "# Shape of feature_maps: [2, 3, 4, 4]\n",
    "# Shape of weights_reshaped: [1, 3, 1, 1]\n",
    "# Resulting shape will be [2, 4, 4] for aggregated scores\n",
    "aggregated_scores = tf.reduce_sum(feature_maps * weights_reshaped, axis=1)\n",
    "\n",
    "# Print the resulting combined scores\n",
    "print(\"Combined Scores for Each Image:\")\n",
    "print(aggregated_scores.numpy())\n"
   ]
  },
  {
   "cell_type": "markdown",
   "metadata": {},
   "source": [
    "### Understanding of output\n",
    "\n",
    "**In Image 1's combined score matrix, each value represents the weighted sum of pixel values from edges, textures, and colors feature maps at that position. For example, the top-left value (3) and bottom-right value (15) reflect the summed importance of features at those specific pixels.**"
   ]
  },
  {
   "cell_type": "markdown",
   "metadata": {},
   "source": [
    "## Indexing"
   ]
  },
  {
   "cell_type": "code",
   "execution_count": 24,
   "metadata": {},
   "outputs": [
    {
     "name": "stdout",
     "output_type": "stream",
     "text": [
      "tf.Tensor([0 1 1 2 3 1 2 3], shape=(8,), dtype=int32)\n",
      "tf.Tensor([1 1 2 3 1 2 3], shape=(7,), dtype=int32)\n",
      "tf.Tensor([1 1], shape=(2,), dtype=int32)\n",
      "tf.Tensor([0 1 3 2], shape=(4,), dtype=int32)\n",
      "tf.Tensor([3 2 1 3 2 1 1 0], shape=(8,), dtype=int32)\n"
     ]
    }
   ],
   "source": [
    "# Define a tensor with integer values\n",
    "x = tf.constant([0, 1, 1, 2, 3, 1, 2, 3])\n",
    "\n",
    "# Print the entire tensor\n",
    "print(x[:])      # Output: [0, 1, 1, 2, 3, 1, 2, 3]\n",
    "\n",
    "# Print the tensor from index 1 to the end\n",
    "print(x[1:])     # Output: [1, 1, 2, 3, 1, 2, 3]\n",
    "\n",
    "# Print the tensor from index 1 to index 3 (exclusive)\n",
    "print(x[1:3])    # Output: [1, 1]\n",
    "\n",
    "# Print every second element from the tensor\n",
    "print(x[::2])    # Output: [0, 1, 3, 2]\n",
    "\n",
    "# Print the tensor in reverse order\n",
    "print(x[::-1])   # Output: [3, 2, 1, 3, 2, 1, 1, 0]\n"
   ]
  },
  {
   "cell_type": "code",
   "execution_count": 26,
   "metadata": {},
   "outputs": [
    {
     "name": "stdout",
     "output_type": "stream",
     "text": [
      "tf.Tensor([0 3], shape=(2,), dtype=int32)\n"
     ]
    }
   ],
   "source": [
    "# Define a tensor with integer values\n",
    "x = tf.constant([0, 1, 1, 2, 3, 1, 2, 3])\n",
    "\n",
    "# Define indices to gather\n",
    "indices = tf.constant([0, 4])\n",
    "\n",
    "# The tf.gather function is used to gather specific elements from a tensor based on the indices provided.\n",
    "# Here, it extracts elements from x at positions specified by indices [0, 3].\n",
    "x_indices = tf.gather(x, indices)\n",
    "\n",
    "# Print the gathered elements\n",
    "print(x_indices)  # Output: [0 2]\n"
   ]
  },
  {
   "cell_type": "code",
   "execution_count": 27,
   "metadata": {},
   "outputs": [
    {
     "name": "stdout",
     "output_type": "stream",
     "text": [
      "tf.Tensor([1 2], shape=(2,), dtype=int32)\n",
      "tf.Tensor(\n",
      "[[1 2]\n",
      " [3 4]], shape=(2, 2), dtype=int32)\n"
     ]
    }
   ],
   "source": [
    "x = tf.constant([[1, 2], [3, 4], [5, 6]])\n",
    "\n",
    "print(x[0, :])\n",
    "print(x[0:2, :])"
   ]
  }
 ],
 "metadata": {
  "kernelspec": {
   "display_name": "ML_learning_journey_env",
   "language": "python",
   "name": "python3"
  },
  "language_info": {
   "codemirror_mode": {
    "name": "ipython",
    "version": 3
   },
   "file_extension": ".py",
   "mimetype": "text/x-python",
   "name": "python",
   "nbconvert_exporter": "python",
   "pygments_lexer": "ipython3",
   "version": "3.11.4"
  }
 },
 "nbformat": 4,
 "nbformat_minor": 2
}
